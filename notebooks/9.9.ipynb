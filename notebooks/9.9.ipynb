{
 "cells": [
  {
   "cell_type": "markdown",
   "metadata": {},
   "source": [
    "maximize min { 2*x1 + 4*x2 + 4*x3, 3*x1 + x2 + x3 , x1 + 2*x2 + 3*x3 }\n",
    "\n",
    "maximize z s.t.\n",
    "\n",
    "z <= 2*x1 + 4*x2 + 4*x3  \n",
    "z <= 3*x1 + x2 + x3  \n",
    "z <= x1 + 2*x2 + 3*x3 \n",
    "\n"
   ]
  },
  {
   "cell_type": "code",
   "execution_count": 1,
   "metadata": {},
   "outputs": [],
   "source": [
    "from __future__ import print_function\n",
    "from ortools.linear_solver import pywraplp"
   ]
  },
  {
   "cell_type": "code",
   "execution_count": 2,
   "metadata": {},
   "outputs": [],
   "source": [
    "solver = pywraplp.Solver.CreateSolver('linear_programming_examples', 'GLOP')"
   ]
  },
  {
   "cell_type": "code",
   "execution_count": 3,
   "metadata": {},
   "outputs": [],
   "source": [
    "x1 = solver.NumVar(0, solver.infinity(), 'x1')\n",
    "x2 = solver.NumVar(0, solver.infinity(), 'x2')\n",
    "x3 = solver.NumVar(0, solver.infinity(), 'x3')\n",
    "z = solver.NumVar(0, solver.infinity(), 'z')"
   ]
  },
  {
   "cell_type": "code",
   "execution_count": 4,
   "metadata": {},
   "outputs": [],
   "source": [
    "constraint0 = solver.Constraint(-solver.infinity(),1)\n",
    "constraint0.SetCoefficient(x1,1)\n",
    "constraint0.SetCoefficient(x2,1)\n",
    "constraint0.SetCoefficient(x3,1)"
   ]
  },
  {
   "cell_type": "code",
   "execution_count": 5,
   "metadata": {},
   "outputs": [],
   "source": [
    "constraint1 = solver.Constraint(-solver.infinity(),0)\n",
    "constraint1.SetCoefficient(z,1)\n",
    "constraint1.SetCoefficient(x1,-2)\n",
    "constraint1.SetCoefficient(x2,-4)\n",
    "constraint1.SetCoefficient(x2,-4)"
   ]
  },
  {
   "cell_type": "code",
   "execution_count": 6,
   "metadata": {},
   "outputs": [],
   "source": [
    "constraint2 = solver.Constraint(-solver.infinity(),0)\n",
    "constraint2.SetCoefficient(z,1)\n",
    "constraint2.SetCoefficient(x1,-3)\n",
    "constraint2.SetCoefficient(x2,-1)\n",
    "constraint2.SetCoefficient(x2,-1)"
   ]
  },
  {
   "cell_type": "code",
   "execution_count": 7,
   "metadata": {},
   "outputs": [],
   "source": [
    "constraint3 = solver.Constraint(-solver.infinity(),0)\n",
    "constraint3.SetCoefficient(z,1)\n",
    "constraint3.SetCoefficient(x1,-1)\n",
    "constraint3.SetCoefficient(x2,2)\n",
    "constraint3.SetCoefficient(x2,3)"
   ]
  },
  {
   "cell_type": "code",
   "execution_count": 8,
   "metadata": {},
   "outputs": [],
   "source": [
    "objective = solver.Objective()\n",
    "objective.SetCoefficient(z,1)\n",
    "objective.SetMaximization()\n"
   ]
  },
  {
   "cell_type": "code",
   "execution_count": 9,
   "metadata": {},
   "outputs": [
    {
     "data": {
      "text/plain": [
       "0"
      ]
     },
     "execution_count": 9,
     "metadata": {},
     "output_type": "execute_result"
    }
   ],
   "source": [
    "solver.Solve()"
   ]
  },
  {
   "cell_type": "code",
   "execution_count": 10,
   "metadata": {},
   "outputs": [
    {
     "name": "stdout",
     "output_type": "stream",
     "text": [
      "Number of variables = 4\n",
      "Number of constraints = 4\n",
      "Solution:\n",
      "x1 =  1.0\n",
      "x2 =  0.0\n",
      "x3 =  0.0\n",
      "z =  1.0\n"
     ]
    }
   ],
   "source": [
    "print('Number of variables =', solver.NumVariables())\n",
    "print('Number of constraints =', solver.NumConstraints())\n",
    "# The value of each variable in the solution.\n",
    "print('Solution:')\n",
    "print('x1 = ', x1.solution_value())\n",
    "print('x2 = ', x2.solution_value())\n",
    "print('x3 = ', x3.solution_value())\n",
    "print('z = ', z.solution_value())\n",
    "\n"
   ]
  },
  {
   "cell_type": "code",
   "execution_count": null,
   "metadata": {},
   "outputs": [],
   "source": []
  }
 ],
 "metadata": {
  "kernelspec": {
   "display_name": "Python 3",
   "language": "python",
   "name": "python3"
  },
  "language_info": {
   "codemirror_mode": {
    "name": "ipython",
    "version": 3
   },
   "file_extension": ".py",
   "mimetype": "text/x-python",
   "name": "python",
   "nbconvert_exporter": "python",
   "pygments_lexer": "ipython3",
   "version": "3.6.4"
  }
 },
 "nbformat": 4,
 "nbformat_minor": 2
}
