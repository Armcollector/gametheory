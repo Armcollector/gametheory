{
 "cells": [
  {
   "source": [
    "# Exercises Chapter 9\n",
    "\n",
    "## 9.3\n",
    "\n",
    "An m × m matrix is called a latin square if each row and each column is a\n",
    "permutation of (1, . . . , m). Compute pure strategy Nash equilibria, if they exist,\n",
    "of a matrix game for which a latin square is the payoff matrix.\n",
    "\n",
    "Answer:  \n",
    "No saddle point can exist in a latin square as any point aij cannot both be minimum of its row and maximum of its column.  Any row has 1 as minimum, but this column also has m as it maximum.\n",
    "\n",
    "## 9.7\n",
    "\n",
    "Give an example of a matrix game for each of the following cases:\n",
    "- There exist only pure strategy Nash equilibria\n",
    "- There exists exactly one Nash equilibrium\n",
    "\n",
    "\\begin{bmatrix}\n",
    "1 & 2\\\\ \n",
    "0 & -1 \n",
    "\\end{bmatrix}\n",
    "\n",
    "- There exist exactly two Nash equilibria\n",
    "- There exist infinite number of Nash equilibria\n",
    "\n",
    "\\begin{bmatrix}\n",
    "1 & 1\\\\ \n",
    "1 & 1 \n",
    "\\end{bmatrix}\n",
    "\n",
    "\n",
    "- There exists a strongly dominant strategy equilibrium\n",
    "\n",
    "\\begin{bmatrix}\n",
    "2 & 3\\\\ \n",
    "0 & 1 \n",
    "\\end{bmatrix}\n"
   ],
   "cell_type": "markdown",
   "metadata": {}
  },
  {
   "source": [
    "# Exercise 9.9\n",
    "## Compute maxmin and minmax values over pure strategies\n",
    "\n",
    "v_maxmin = maximum of minimum in each row: 1\n",
    "\n",
    "v_minmax = minimum of maximum in each column: 3 \n",
    "\n"
   ],
   "cell_type": "markdown",
   "metadata": {}
  },
  {
   "source": [
    "## Compute all pure Nash equilibria \n",
    "\n",
    "There is no saddle point, so no pure nash equilibria can exist."
   ],
   "cell_type": "markdown",
   "metadata": {}
  },
  {
   "source": [
    "## Mixed Strategies\n",
    "\n",
    "### Player 1\n",
    "maximize min { 2*x1 + 4*x2 + 4*x3, 3*x1 + x2 + x3 , x1 + 2*x2 + 3*x3 }\n",
    "\n",
    "maximize z s.t.\n",
    "\n",
    "z <= 2*x1 + 4*x2 + 4*x3  \n",
    "z <= 3*x1 + x2 + x3  \n",
    "z <= x1 + 2*x2 + 3*x3 \n",
    "\n"
   ],
   "cell_type": "markdown",
   "metadata": {}
  },
  {
   "cell_type": "code",
   "execution_count": 17,
   "metadata": {},
   "outputs": [],
   "source": [
    "from __future__ import print_function\n",
    "from ortools.linear_solver import pywraplp"
   ]
  },
  {
   "cell_type": "code",
   "execution_count": 18,
   "metadata": {},
   "outputs": [],
   "source": [
    "solver = pywraplp.Solver.CreateSolver('linear_programming_examples', 'GLOP')"
   ]
  },
  {
   "cell_type": "code",
   "execution_count": 19,
   "metadata": {},
   "outputs": [],
   "source": [
    "x1 = solver.NumVar(0, solver.infinity(), 'x1')\n",
    "x2 = solver.NumVar(0, solver.infinity(), 'x2')\n",
    "x3 = solver.NumVar(0, solver.infinity(), 'x3')\n",
    "z = solver.NumVar(0, solver.infinity(), 'z')"
   ]
  },
  {
   "cell_type": "code",
   "execution_count": 20,
   "metadata": {},
   "outputs": [],
   "source": [
    "constraint0 = solver.Constraint(1,1)\n",
    "constraint0.SetCoefficient(x1,1)\n",
    "constraint0.SetCoefficient(x2,1)\n",
    "constraint0.SetCoefficient(x3,1)"
   ]
  },
  {
   "cell_type": "code",
   "execution_count": 21,
   "metadata": {},
   "outputs": [],
   "source": [
    "constraint1 = solver.Constraint(-solver.infinity(),0)\n",
    "constraint1.SetCoefficient(z,1)\n",
    "constraint1.SetCoefficient(x1,-2)\n",
    "constraint1.SetCoefficient(x2,-4)\n",
    "constraint1.SetCoefficient(x3,-4)"
   ]
  },
  {
   "cell_type": "code",
   "execution_count": 22,
   "metadata": {},
   "outputs": [],
   "source": [
    "constraint2 = solver.Constraint(-solver.infinity(),0)\n",
    "constraint2.SetCoefficient(z,1)\n",
    "constraint2.SetCoefficient(x1,-3)\n",
    "constraint2.SetCoefficient(x2,-1)\n",
    "constraint2.SetCoefficient(x3,-1)"
   ]
  },
  {
   "cell_type": "code",
   "execution_count": 23,
   "metadata": {},
   "outputs": [],
   "source": [
    "constraint3 = solver.Constraint(-solver.infinity(),0)\n",
    "constraint3.SetCoefficient(z,1)\n",
    "constraint3.SetCoefficient(x1,-1)\n",
    "constraint3.SetCoefficient(x2,-2)\n",
    "constraint3.SetCoefficient(x3,-3)"
   ]
  },
  {
   "cell_type": "code",
   "execution_count": 24,
   "metadata": {},
   "outputs": [],
   "source": [
    "objective = solver.Objective()\n",
    "objective.SetCoefficient(z,1)\n",
    "objective.SetMaximization()\n"
   ]
  },
  {
   "cell_type": "code",
   "execution_count": 25,
   "metadata": {},
   "outputs": [
    {
     "output_type": "execute_result",
     "data": {
      "text/plain": "0"
     },
     "metadata": {},
     "execution_count": 25
    }
   ],
   "source": [
    "solver.Solve()"
   ]
  },
  {
   "cell_type": "code",
   "execution_count": 26,
   "metadata": {
    "tags": []
   },
   "outputs": [
    {
     "output_type": "stream",
     "name": "stdout",
     "text": "Number of variables = 4\nNumber of constraints = 4\nSolution:\nx1 =  0.5\nx2 =  0.0\nx3 =  0.5\nz =  2.0\n"
    }
   ],
   "source": [
    "print('Number of variables =', solver.NumVariables())\n",
    "print('Number of constraints =', solver.NumConstraints())\n",
    "# The value of each variable in the solution.\n",
    "print('Solution:')\n",
    "print('x1 = ', x1.solution_value())\n",
    "print('x2 = ', x2.solution_value())\n",
    "print('x3 = ', x3.solution_value())\n",
    "print('z = ', z.solution_value())\n",
    "\n"
   ]
  },
  {
   "source": [
    "### Player 2\n",
    "minimize max{ 2y1 + 3y2 + x3, 4y1 + y2 + 2y3 ,  4y1 + y2 + 3y3}\n",
    "minimize w \n",
    "\n",
    "w >= 2y1 + 3y2 + x3  \n",
    "w >= 4y1 + y2 + 2y3  \n",
    "w >= 4y1 + y2 + 3y3\n"
   ],
   "cell_type": "markdown",
   "metadata": {}
  },
  {
   "cell_type": "code",
   "execution_count": 2,
   "metadata": {},
   "outputs": [],
   "source": [
    "solver = pywraplp.Solver.CreateSolver('99_p2', 'GLOP')"
   ]
  },
  {
   "cell_type": "code",
   "execution_count": 3,
   "metadata": {},
   "outputs": [],
   "source": [
    "y1 = solver.NumVar(0, solver.infinity(), 'y1')\n",
    "y2 = solver.NumVar(0, solver.infinity(), 'y2')\n",
    "y3 = solver.NumVar(0, solver.infinity(), 'y3')\n",
    "w = solver.NumVar(0, solver.infinity(), 'w')"
   ]
  },
  {
   "cell_type": "code",
   "execution_count": 4,
   "metadata": {},
   "outputs": [],
   "source": [
    "constraint0 = solver.Constraint(1,1)\n",
    "constraint0.SetCoefficient(y1,1)\n",
    "constraint0.SetCoefficient(y2,1)\n",
    "constraint0.SetCoefficient(y3,1)"
   ]
  },
  {
   "cell_type": "code",
   "execution_count": 5,
   "metadata": {},
   "outputs": [],
   "source": [
    "constraint1 = solver.Constraint(0,solver.infinity())\n",
    "constraint1.SetCoefficient(w,1)\n",
    "constraint1.SetCoefficient(y1,-2)\n",
    "constraint1.SetCoefficient(y2,-3)\n",
    "constraint1.SetCoefficient(y3,-1)"
   ]
  },
  {
   "cell_type": "code",
   "execution_count": 6,
   "metadata": {},
   "outputs": [],
   "source": [
    "constraint2 = solver.Constraint(0,solver.infinity())\n",
    "constraint2.SetCoefficient(w,1)\n",
    "constraint2.SetCoefficient(y1,-4)\n",
    "constraint2.SetCoefficient(y2,-1)\n",
    "constraint2.SetCoefficient(y3,-2)"
   ]
  },
  {
   "cell_type": "code",
   "execution_count": 7,
   "metadata": {},
   "outputs": [],
   "source": [
    "constraint3 = solver.Constraint(0,solver.infinity())\n",
    "constraint3.SetCoefficient(w,1)\n",
    "constraint3.SetCoefficient(y1,-4)\n",
    "constraint3.SetCoefficient(y2,-1)\n",
    "constraint3.SetCoefficient(y3,-3)"
   ]
  },
  {
   "cell_type": "code",
   "execution_count": 8,
   "metadata": {},
   "outputs": [],
   "source": [
    "objective = solver.Objective()\n",
    "objective.SetCoefficient(w,1)\n",
    "objective.SetMinimization()"
   ]
  },
  {
   "cell_type": "code",
   "execution_count": 9,
   "metadata": {},
   "outputs": [
    {
     "output_type": "execute_result",
     "data": {
      "text/plain": "0"
     },
     "metadata": {},
     "execution_count": 9
    }
   ],
   "source": [
    "solver.Solve()"
   ]
  },
  {
   "cell_type": "code",
   "execution_count": 10,
   "metadata": {
    "tags": []
   },
   "outputs": [
    {
     "output_type": "stream",
     "name": "stdout",
     "text": "Number of variables = 4\nNumber of constraints = 4\nSolution:\ny1 =  0.0\ny2 =  0.5\ny3 =  0.5\nw =  1.9999999999999998\n"
    }
   ],
   "source": [
    "print('Number of variables =', solver.NumVariables())\n",
    "print('Number of constraints =', solver.NumConstraints())\n",
    "# The value of each variable in the solution.\n",
    "print('Solution:')\n",
    "print('y1 = ', y1.solution_value())\n",
    "print('y2 = ', y2.solution_value())\n",
    "print('y3 = ', y3.solution_value())\n",
    "print('w = ', w.solution_value())\n"
   ]
  },
  {
   "cell_type": "code",
   "execution_count": null,
   "metadata": {},
   "outputs": [],
   "source": []
  }
 ],
 "metadata": {
  "kernelspec": {
   "display_name": "Python 3",
   "language": "python",
   "name": "python3"
  },
  "language_info": {
   "codemirror_mode": {
    "name": "ipython",
    "version": 3
   },
   "file_extension": ".py",
   "mimetype": "text/x-python",
   "name": "python",
   "nbconvert_exporter": "python",
   "pygments_lexer": "ipython3",
   "version": "3.6.4-final"
  }
 },
 "nbformat": 4,
 "nbformat_minor": 2
}